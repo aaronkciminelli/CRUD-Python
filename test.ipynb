{
 "cells": [
  {
   "cell_type": "code",
   "execution_count": 1,
   "metadata": {
    "scrolled": true
   },
   "outputs": [
    {
     "name": "stdout",
     "output_type": "stream",
     "text": [
      "Test Script\n",
      "Your Username and Password is: aacuser password\n",
      "Connection Was Successful\n",
      "Create result: True\n",
      "Read result:\n",
      "{'_id': ObjectId('63cb1b5b44fd17067e57b4f0'), '1': 8024, 'age_upon_outcome': '2 months', 'animal_id': 'A665424', 'animal_type': 'Cat', 'breed': 'Domestic Shorthair Mix', 'color': 'Black', 'date_of_birth': '2013-08-26', 'datetime': '2013-11-03 11:56:00', 'monthyear': '2013-11-03T11:56:00', 'name': 'Khaleesi', 'outcome_subtype': '', 'outcome_type': 'Adoption', 'sex_upon_outcome': 'Intact Female', 'location_lat': 30.4967185734762, 'location_long': -97.3525066144087, 'age_upon_outcome_in_weeks': 9.9281746031746}\n",
      "{'_id': ObjectId('63cb1b5b44fd17067e57b73d'), '1': 8614, 'age_upon_outcome': '1 year', 'animal_id': 'A744162', 'animal_type': 'Dog', 'breed': 'Pit Bull Mix', 'color': 'Brown Brindle/White', 'date_of_birth': '2016-02-24', 'datetime': '2017-02-24 13:47:00', 'monthyear': '2017-02-24T13:47:00', 'name': 'Khaleesi', 'outcome_subtype': '', 'outcome_type': 'Return to Owner', 'sex_upon_outcome': 'Intact Female', 'location_lat': 30.2728540361393, 'location_long': -97.5281248179923, 'age_upon_outcome_in_weeks': 52.3677579365079}\n",
      "{'_id': ObjectId('63d9c4ea763c56f15eeb2b97'), 'name': 'Khaleesi', 'gender': 'Female, Spayed', 'age': 7, 'breed': 'Siberian Huskey'}\n"
     ]
    }
   ],
   "source": [
    "\n",
    "from animalShelter import AnimalShelter\n",
    "\n",
    "print (\"Test Script\")\n",
    "\n",
    "from animalShelter import AnimalShelter\n",
    "\n",
    "# Test data to insert into the collection\n",
    "data = {\n",
    "    \"name\": \"Khaleesi\",\n",
    "    \"gender\": \"Female, Spayed\",\n",
    "    \"age\": 7,\n",
    "    \"breed\": \"Siberian Huskey\"\n",
    "}\n",
    "\n",
    "# Instantiating with username and password\n",
    "test = AnimalShelter(\"aacuser\", \"password\")\n",
    "\n",
    "# create method and storing the result \n",
    "result = test.create(data)\n",
    "print(\"Create result:\", result)\n",
    "\n",
    "# read method with a key-value lookup then store the result\n",
    "key_value_lookup = {\"name\": \"Khaleesi\"}\n",
    "result = test.read(key_value_lookup)\n",
    "print(\"Read result:\")\n",
    "for document in result:\n",
    "    print(document)\n"
   ]
  },
  {
   "cell_type": "code",
   "execution_count": null,
   "metadata": {},
   "outputs": [],
   "source": []
  }
 ],
 "metadata": {
  "kernelspec": {
   "display_name": "Python 3",
   "language": "python",
   "name": "python3"
  },
  "language_info": {
   "codemirror_mode": {
    "name": "ipython",
    "version": 3
   },
   "file_extension": ".py",
   "mimetype": "text/x-python",
   "name": "python",
   "nbconvert_exporter": "python",
   "pygments_lexer": "ipython3",
   "version": "3.11.1 (tags/v3.11.1:a7a450f, Dec  6 2022, 19:58:39) [MSC v.1934 64 bit (AMD64)]"
  },
  "vscode": {
   "interpreter": {
    "hash": "0c52feed6a5e003cac606f820272c801c7dfd21d9a5b9caff815ab17cfd47fb8"
   }
  }
 },
 "nbformat": 4,
 "nbformat_minor": 2
}
